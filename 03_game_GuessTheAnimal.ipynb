{
  "nbformat": 4,
  "nbformat_minor": 0,
  "metadata": {
    "colab": {
      "provenance": [],
      "authorship_tag": "ABX9TyMWSoddKGV+MGEHfQz0XJXX",
      "include_colab_link": true
    },
    "kernelspec": {
      "name": "python3",
      "display_name": "Python 3"
    },
    "language_info": {
      "name": "python"
    }
  },
  "cells": [
    {
      "cell_type": "markdown",
      "metadata": {
        "id": "view-in-github",
        "colab_type": "text"
      },
      "source": [
        "<a href=\"https://colab.research.google.com/github/jcardonamde/interacting-with-openai-api/blob/main/03_game_GuessTheAnimal.ipynb\" target=\"_parent\"><img src=\"https://colab.research.google.com/assets/colab-badge.svg\" alt=\"Open In Colab\"/></a>"
      ]
    },
    {
      "cell_type": "code",
      "execution_count": null,
      "metadata": {
        "colab": {
          "base_uri": "https://localhost:8080/"
        },
        "id": "itO6OnLTc9Js",
        "outputId": "32a2b586-ed91-4ca3-d9e4-36df1e20c8d0"
      },
      "outputs": [
        {
          "output_type": "stream",
          "name": "stdout",
          "text": [
            "Requirement already satisfied: openai in /usr/local/lib/python3.10/dist-packages (1.57.4)\n",
            "Requirement already satisfied: anyio<5,>=3.5.0 in /usr/local/lib/python3.10/dist-packages (from openai) (3.7.1)\n",
            "Requirement already satisfied: distro<2,>=1.7.0 in /usr/local/lib/python3.10/dist-packages (from openai) (1.9.0)\n",
            "Requirement already satisfied: httpx<1,>=0.23.0 in /usr/local/lib/python3.10/dist-packages (from openai) (0.28.1)\n",
            "Requirement already satisfied: jiter<1,>=0.4.0 in /usr/local/lib/python3.10/dist-packages (from openai) (0.8.2)\n",
            "Requirement already satisfied: pydantic<3,>=1.9.0 in /usr/local/lib/python3.10/dist-packages (from openai) (2.10.3)\n",
            "Requirement already satisfied: sniffio in /usr/local/lib/python3.10/dist-packages (from openai) (1.3.1)\n",
            "Requirement already satisfied: tqdm>4 in /usr/local/lib/python3.10/dist-packages (from openai) (4.67.1)\n",
            "Requirement already satisfied: typing-extensions<5,>=4.11 in /usr/local/lib/python3.10/dist-packages (from openai) (4.12.2)\n",
            "Requirement already satisfied: idna>=2.8 in /usr/local/lib/python3.10/dist-packages (from anyio<5,>=3.5.0->openai) (3.10)\n",
            "Requirement already satisfied: exceptiongroup in /usr/local/lib/python3.10/dist-packages (from anyio<5,>=3.5.0->openai) (1.2.2)\n",
            "Requirement already satisfied: certifi in /usr/local/lib/python3.10/dist-packages (from httpx<1,>=0.23.0->openai) (2024.12.14)\n",
            "Requirement already satisfied: httpcore==1.* in /usr/local/lib/python3.10/dist-packages (from httpx<1,>=0.23.0->openai) (1.0.7)\n",
            "Requirement already satisfied: h11<0.15,>=0.13 in /usr/local/lib/python3.10/dist-packages (from httpcore==1.*->httpx<1,>=0.23.0->openai) (0.14.0)\n",
            "Requirement already satisfied: annotated-types>=0.6.0 in /usr/local/lib/python3.10/dist-packages (from pydantic<3,>=1.9.0->openai) (0.7.0)\n",
            "Requirement already satisfied: pydantic-core==2.27.1 in /usr/local/lib/python3.10/dist-packages (from pydantic<3,>=1.9.0->openai) (2.27.1)\n"
          ]
        }
      ],
      "source": [
        "!pip install openai\n",
        "\n",
        "from openai import OpenAI\n",
        "\n",
        "openai = OpenAI(api_key='write_your_APIKey_from_OpenAI')"
      ]
    },
    {
      "cell_type": "code",
      "source": [
        "import random\n",
        "\n",
        "def get_clue():\n",
        "  words = ['elefante', 'pinguino', 'tiburon', 'aguila', 'chimpavaca']\n",
        "  random_word = random.choice(words)\n",
        "  prompt = 'Adivina la palabra que estoy pensando. Es un animal que vive en la selva.'\n",
        "  return prompt, random_word\n"
      ],
      "metadata": {
        "id": "74PHWITQz8hN"
      },
      "execution_count": null,
      "outputs": []
    },
    {
      "cell_type": "code",
      "source": [
        "def check_answer(user_input, answer):\n",
        "    return user_input == answer"
      ],
      "metadata": {
        "id": "qnMSNutr0e7D"
      },
      "execution_count": null,
      "outputs": []
    },
    {
      "cell_type": "code",
      "source": [
        "def give_property(animal):\n",
        "  response = openai.chat.completions.create(\n",
        "      model= 'gpt-4',\n",
        "      messages = [\n",
        "        {\"role\": \"user\", \"content\" :'Dame una caracteristica del tipo animal ' + animal + ', pero jamás digas el nombre del animal'},\n",
        "       ],\n",
        "      temperature=1,\n",
        "      max_tokens = 100)\n",
        "  return response.choices[0].message.content"
      ],
      "metadata": {
        "id": "hwyxa52y1CpZ"
      },
      "execution_count": null,
      "outputs": []
    },
    {
      "cell_type": "code",
      "source": [
        "def play_game():\n",
        "  prompt, answer = get_clue()\n",
        "  print(prompt)\n",
        "  while True:\n",
        "    user_input = input('Ingresa tu respuesta: ')\n",
        "    if check_answer(user_input, answer):\n",
        "      print('correcto! La respuesta era', answer)\n",
        "      break\n",
        "    else:\n",
        "      print('Respuesta incorrecta, Intentalo de nuevo\\n')\n",
        "      print(give_property(answer))"
      ],
      "metadata": {
        "id": "aA3kP43k1n6O"
      },
      "execution_count": null,
      "outputs": []
    },
    {
      "cell_type": "markdown",
      "source": [
        "  Iniciar la ejecución del juego"
      ],
      "metadata": {
        "id": "gbp_Ti6I30kl"
      }
    },
    {
      "cell_type": "code",
      "source": [
        "play_game()\n",
        "\n"
      ],
      "metadata": {
        "colab": {
          "base_uri": "https://localhost:8080/"
        },
        "id": "r0uJ2bnw3xc6",
        "outputId": "c1cf10da-5c98-49ab-a4ad-a3ca598f5356"
      },
      "execution_count": null,
      "outputs": [
        {
          "output_type": "stream",
          "name": "stdout",
          "text": [
            "Adivina la palabra que estoy pensando. Es un animal que vive en la selva.\n",
            "Ingresa tu respuesta: oso\n",
            "Respuesta incorrecta, Intentalo de nuevo\n",
            "\n",
            "Este animal es reconocido por tener largas trompas.\n",
            "Ingresa tu respuesta: elefante\n",
            "correcto! La respuesta era elefante\n"
          ]
        }
      ]
    }
  ]
}