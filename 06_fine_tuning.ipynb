{
  "cells": [
    {
      "cell_type": "markdown",
      "metadata": {
        "id": "view-in-github",
        "colab_type": "text"
      },
      "source": [
        "<a href=\"https://colab.research.google.com/github/jcardonamde/interacting-with-openai-api/blob/main/06_fine_tuning.ipynb\" target=\"_parent\"><img src=\"https://colab.research.google.com/assets/colab-badge.svg\" alt=\"Open In Colab\"/></a>"
      ]
    },
    {
      "cell_type": "markdown",
      "metadata": {
        "id": "Nt_PGcbZsd0P"
      },
      "source": [
        "## Importar librería de OpenAI"
      ]
    },
    {
      "cell_type": "code",
      "execution_count": null,
      "metadata": {
        "id": "LCfoGCxSsd0R"
      },
      "outputs": [],
      "source": [
        "from openai import OpenAI\n",
        "client = OpenAI(api_key='INGRESA TU API KEY')"
      ]
    },
    {
      "cell_type": "markdown",
      "metadata": {
        "id": "kBfeponvsd0S"
      },
      "source": [
        "## Cargar datasets\n",
        "\n",
        "Carga los archivos de los datasets a la plataforma de OpenAI. Esto te generará un ID del archivo que usarás para el fine-tuning del modelo base."
      ]
    },
    {
      "cell_type": "markdown",
      "metadata": {
        "id": "6EOSD3H1sd0S"
      },
      "source": [
        "### Dataset de entrenamiento"
      ]
    },
    {
      "cell_type": "code",
      "execution_count": null,
      "metadata": {
        "id": "2ksZi_5Vsd0S"
      },
      "outputs": [],
      "source": [
        "client.files.create(\n",
        "  file=open(\"INGRESA EL PATH DE data_train.jsonl\", \"rb\"),\n",
        "  purpose=\"fine-tune\"\n",
        ")"
      ]
    },
    {
      "cell_type": "markdown",
      "metadata": {
        "id": "TSgv8ahosd0S"
      },
      "source": [
        "### Dataset de validación"
      ]
    },
    {
      "cell_type": "code",
      "execution_count": null,
      "metadata": {
        "id": "GARCaMMrsd0S"
      },
      "outputs": [],
      "source": [
        "client.files.create(\n",
        "  file=open(\"INGRESA EL PATH DE data_val.jsonl\", \"rb\"),\n",
        "  purpose=\"fine-tune\"\n",
        ")"
      ]
    },
    {
      "cell_type": "markdown",
      "metadata": {
        "id": "Q0VE2X75sd0S"
      },
      "source": [
        "## Fine-tuning de modelo base"
      ]
    },
    {
      "cell_type": "markdown",
      "metadata": {
        "id": "LIlEo0vJsd0T"
      },
      "source": [
        "Crea un proceso de fine-tuning.\n",
        "\n",
        "- Necesitas el id de tus dos archivos de datasets de entrenamiento y validación.\n",
        "- Además del nombre del modelo base.\n",
        "\n",
        "Este código iniciará el proceso de fine-tuning que podrás darle seguimiento en la plataforma de OpenAI."
      ]
    },
    {
      "cell_type": "code",
      "execution_count": null,
      "metadata": {
        "id": "sv6cXqplsd0T"
      },
      "outputs": [],
      "source": [
        "client.fine_tuning.jobs.create(\n",
        "  training_file=\"INGRESA EL FILE ID DEL ARCHIVO DE TRAIN\",\n",
        "  validation_file='INGRESA EL FILE ID DEL ARCHIVO DE VAL',\n",
        "  model=\"gpt-3.5-turbo-1106\" #Puedes cambiar el modelo base según lo necesites.\n",
        ")"
      ]
    },
    {
      "cell_type": "markdown",
      "metadata": {
        "id": "srcTaw9Ysd0T"
      },
      "source": [
        "## Listar y eliminar modelos con fine-tuning"
      ]
    },
    {
      "cell_type": "markdown",
      "metadata": {
        "id": "-bmRO0BQsd0T"
      },
      "source": [
        "### Listar modelos en tu organización"
      ]
    },
    {
      "cell_type": "code",
      "execution_count": null,
      "metadata": {
        "id": "de_DuwJvsd0T"
      },
      "outputs": [],
      "source": [
        "client.fine_tuning.jobs.list(limit=10)"
      ]
    },
    {
      "cell_type": "markdown",
      "metadata": {
        "id": "ckCn2acOsd0T"
      },
      "source": [
        "### Eliminar modelos de tu organización"
      ]
    },
    {
      "cell_type": "code",
      "execution_count": null,
      "metadata": {
        "id": "Kb3VPNiZsd0T"
      },
      "outputs": [],
      "source": [
        "client.models.delete(\"INGRESA EL NOMBRE DEL MODELO A ELIMINAR\")"
      ]
    }
  ],
  "metadata": {
    "kernelspec": {
      "display_name": "openaicourse",
      "language": "python",
      "name": "python3"
    },
    "language_info": {
      "codemirror_mode": {
        "name": "ipython",
        "version": 3
      },
      "file_extension": ".py",
      "mimetype": "text/x-python",
      "name": "python",
      "nbconvert_exporter": "python",
      "pygments_lexer": "ipython3",
      "version": "3.9.0"
    },
    "colab": {
      "provenance": [],
      "include_colab_link": true
    }
  },
  "nbformat": 4,
  "nbformat_minor": 0
}